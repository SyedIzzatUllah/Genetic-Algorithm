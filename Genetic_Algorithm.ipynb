{
  "nbformat": 4,
  "nbformat_minor": 5,
  "metadata": {
    "kernelspec": {
      "display_name": "Python 3",
      "language": "python",
      "name": "python3"
    },
    "language_info": {
      "codemirror_mode": {
        "name": "ipython",
        "version": 3
      },
      "file_extension": ".py",
      "mimetype": "text/x-python",
      "name": "python",
      "nbconvert_exporter": "python",
      "pygments_lexer": "ipython3",
      "version": "3.8.8"
    },
    "colab": {
      "name": "Genetic Algorithm.ipynb",
      "provenance": [],
      "include_colab_link": true
    }
  },
  "cells": [
    {
      "cell_type": "markdown",
      "metadata": {
        "id": "view-in-github",
        "colab_type": "text"
      },
      "source": [
        "<a href=\"https://colab.research.google.com/github/SyedIzzatUllah/Genetic-Algorithm/blob/main/Genetic_Algorithm.ipynb\" target=\"_parent\"><img src=\"https://colab.research.google.com/assets/colab-badge.svg\" alt=\"Open In Colab\"/></a>"
      ]
    },
    {
      "cell_type": "markdown",
      "metadata": {
        "id": "cc21e81b-9bf8-47d0-a353-bba64fba49a6"
      },
      "source": [
        "# Genetic Algorithm"
      ],
      "id": "cc21e81b-9bf8-47d0-a353-bba64fba49a6"
    },
    {
      "cell_type": "markdown",
      "metadata": {
        "id": "7c3e68d3-356d-4278-a259-2ff65cd1909d"
      },
      "source": [
        "The Genetic Algorithm is a stochastic global search optimization algorithm.<br>\n",
        "The algorithm uses analogs of a genetic representation (bitstrings), fitness (function evaluations), genetic recombination (crossover of bitstrings), and mutation (flipping bits).<br>\n",
        "\n",
        "The algorithm works by first creating a population of a fixed size of random bitstrings. The main loop of the algorithm is repeated for a fixed number of iterations or until no further improvement is seen in the best solution over a given number of iterations.<br>\n",
        "\n",
        "One iteration of the algorithm is like an evolutionary generation.<br>\n",
        "\n",
        "First, the population of bitstrings (candidate solutions) are evaluated using the objective function. The objective function evaluation for each candidate solution is taken as the fitness of the solution, which may be minimized or maximized.<br>\n",
        "\n",
        "Then, parents are selected based on their fitness. A given candidate solution may be used as parent zero or more times. A simple and effective approach to selection involves drawing k candidates from the population randomly and selecting the member from the group with the best fitness. This is called tournament selection where k is a hyperparameter and set to a value such as 3. This simple approach simulates a more costly fitness-proportionate selection scheme."
      ],
      "id": "7c3e68d3-356d-4278-a259-2ff65cd1909d"
    },
    {
      "cell_type": "markdown",
      "metadata": {
        "id": "R-8I5QN0rKey"
      },
      "source": [
        "**implement different strategies of followinng GA methos:**"
      ],
      "id": "R-8I5QN0rKey"
    },
    {
      "cell_type": "markdown",
      "metadata": {
        "id": "6ca062f7-f903-4768-bcd9-ff6fe24e71e9"
      },
      "source": [
        "### Parents selection and cross-over"
      ],
      "id": "6ca062f7-f903-4768-bcd9-ff6fe24e71e9"
    },
    {
      "cell_type": "markdown",
      "metadata": {
        "id": "76bf97fc-be39-4dab-b5dd-ca63e6a935ab"
      },
      "source": [
        "Parents are used as the basis for generating the next generation of candidate points and one parent for each position in the population is required.<br>\n",
        "\n",
        "Parents are then taken in pairs and used to create two children. Recombination is performed using a crossover operator. This involves selecting a random split point on the bit string, then creating a child with the bits up to the split point from the first parent and from the split point to the end of the string from the second parent. This process is then inverted for the second child.<br>\n",
        "\n",
        "For example the two parents:<br>\n",
        "\n",
        "- parent1 = 00000\n",
        "- parent2 = 11111<br>\n",
        "May result in two cross-over children:<br>\n",
        "\n",
        "1. child1 = 00011\n",
        "2. child2 = 11100\n",
        "This is called one _point crossover_, and there are many other variations of the operator.\n",
        "\n",
        "Crossover is applied probabilistically for each pair of parents, meaning that in some cases, copies of the parents are taken as the children instead of the recombination operator. Crossover is controlled by a hyperparameter set to a large value, such as 80 percent or 90 percent.<br>\n",
        "<font color=blue>_\"Crossover is the Genetic Algorithm’s distinguishing feature. It involves mixing and matching parts of two parents to form children. How you do that mixing and matching depends on the representation of the individuals.\"_</fot>"
      ],
      "id": "76bf97fc-be39-4dab-b5dd-ca63e6a935ab"
    },
    {
      "cell_type": "markdown",
      "metadata": {
        "id": "1c053af0-89dc-4c7c-b380-b699a487f5c5"
      },
      "source": [
        "### Mutation"
      ],
      "id": "1c053af0-89dc-4c7c-b380-b699a487f5c5"
    },
    {
      "cell_type": "markdown",
      "metadata": {
        "id": "87566744-6d64-4637-81ac-ac56f2092c7f"
      },
      "source": [
        "Mutation involves flipping bits in created children candidate solutions. Typically, the mutation rate is set to $\\frac{1}{L}$, where $L$ is the length of the bitstring.<br>\n",
        "\n",
        "<font color=blue>_\"Each bit in a binary-valued chromosome typically has a small probability of being flipped. For a chromosome with $m$ bits, this mutation rate is typically set to $\\frac{1}{m}$, yielding an average of one mutation per child chromosome.\"_</font><br>\n",
        "For example, if a problem used a bitstring with 20 bits, then a good default mutation rate would be (1/20) = 0.05 or a probability of 5 percent.<br>\n",
        "\n",
        "This defines the simple genetic algorithm procedure. It is a large field of study, and there are many extensions to the algorithm.<br>\n",
        "\n",
        "Now that we are familiar with the simple genetic algorithm procedure, let’s look at how we might implement it from scratch.<br>"
      ],
      "id": "87566744-6d64-4637-81ac-ac56f2092c7f"
    },
    {
      "cell_type": "markdown",
      "metadata": {
        "id": "9cceda8f-ce44-4355-8936-2dded28e2132"
      },
      "source": [
        "## Genetic Algorithm From Scratch"
      ],
      "id": "9cceda8f-ce44-4355-8936-2dded28e2132"
    },
    {
      "cell_type": "markdown",
      "metadata": {
        "id": "f5eb4297-3685-4529-b7bb-6da7a344afbb"
      },
      "source": [
        "In this section, we will develop an implementation of the genetic algorithm."
      ],
      "id": "f5eb4297-3685-4529-b7bb-6da7a344afbb"
    },
    {
      "cell_type": "markdown",
      "metadata": {
        "id": "5f110105-bade-4c90-b5be-05161d1ce26e"
      },
      "source": [
        "### Initialize Population"
      ],
      "id": "5f110105-bade-4c90-b5be-05161d1ce26e"
    },
    {
      "cell_type": "markdown",
      "metadata": {
        "id": "8569d817-9c53-4cce-89f7-3b1ce9578ebf"
      },
      "source": [
        "The first step is to create a population of random bitstrings. We could use boolean values True and False, string values \"$0$\" and \"$1$\", or integer values $0$ and $1$. __In this case, we will use integer values.__<br>\n",
        "\n",
        "We can generate an array of integer values in a range using the <font color=blue>randint() function</font>, and we can specify the range as values starting at $0$ and less than $2$, e.g. $0$ or $1$. We will also represent a candidate solution as a list instead of a <font color=blue>NumPy</font> array to keep things simple.<br>\n",
        "\n",
        "An initial population of random bitstring can be created as follows, where _“n_pop”_ is a hyperparameter that controls the population size and _“n_bits”_ is a hyperparameter that defines the number of bits in a single candidate solution:"
      ],
      "id": "8569d817-9c53-4cce-89f7-3b1ce9578ebf"
    },
    {
      "cell_type": "code",
      "metadata": {
        "id": "bda7f485-10af-4dea-9bad-7be8e3a497e1",
        "outputId": "a3fd27d6-2541-4733-ac07-64fa1b033d6a"
      },
      "source": [
        "from numpy.random import randint\n",
        "from numpy.random import rand\n",
        "# initial population of random bitstring\n",
        "n_bits=20\n",
        "n_pop=100\n",
        "pop = [randint(0, 2, n_bits).tolist() for _ in range(n_pop)]\n",
        "print(\"Population Size %i, each candidate is %i bits string\"%(len(pop),n_bits))"
      ],
      "id": "bda7f485-10af-4dea-9bad-7be8e3a497e1",
      "execution_count": null,
      "outputs": [
        {
          "output_type": "stream",
          "text": [
            "Population Size 100, each candidate is 20 bits string\n"
          ],
          "name": "stdout"
        }
      ]
    },
    {
      "cell_type": "markdown",
      "metadata": {
        "id": "be298d34-5f2d-49ae-b3ca-404efd566f2f"
      },
      "source": [
        "### Define iterations"
      ],
      "id": "be298d34-5f2d-49ae-b3ca-404efd566f2f"
    },
    {
      "cell_type": "markdown",
      "metadata": {
        "id": "03cf0df2-99ab-4c6e-a54d-228bd0878ba1"
      },
      "source": [
        "Next, we can enumerate over a fixed number of algorithm iterations, in this case, controlled by a hyperparameter named “n_iter“."
      ],
      "id": "03cf0df2-99ab-4c6e-a54d-228bd0878ba1"
    },
    {
      "cell_type": "code",
      "metadata": {
        "id": "dffc9953-f38c-40b1-a310-0cde841e6b25"
      },
      "source": [
        "...\n",
        "# enumerate generations\n",
        "    for gen in range(n_iter):\n",
        "        ..."
      ],
      "id": "dffc9953-f38c-40b1-a310-0cde841e6b25",
      "execution_count": null,
      "outputs": []
    },
    {
      "cell_type": "markdown",
      "metadata": {
        "id": "9b2b52f5-7635-43aa-8e18-fd313ac3d512"
      },
      "source": [
        "### Objective function"
      ],
      "id": "9b2b52f5-7635-43aa-8e18-fd313ac3d512"
    },
    {
      "cell_type": "markdown",
      "metadata": {
        "id": "16b4005f-3c21-4ca6-9cfd-4bd9d47a1513"
      },
      "source": [
        "The first step in the algorithm iteration is to evaluate all candidate solutions.<br>\n",
        "\n",
        "We will use a function named <font color=blue>_objective()_</font> as a generic objective function and call it to get a fitness score, which we will minimize. We have defined the fitness function <font color=blue>_onemax()_</font> that returns the negative sum of candidates bit"
      ],
      "id": "16b4005f-3c21-4ca6-9cfd-4bd9d47a1513"
    },
    {
      "cell_type": "code",
      "metadata": {
        "id": "b7584652-e397-449f-8249-31caf70509f4",
        "outputId": "d47f39ad-facc-4817-d449-c4dd3205521e"
      },
      "source": [
        "# objective function\n",
        "def onemax(x):\n",
        "    return -sum(x)\n",
        "# evaluate all candidates in the population\n",
        "scores = [onemax(c) for c in pop]\n",
        "print(scores)"
      ],
      "id": "b7584652-e397-449f-8249-31caf70509f4",
      "execution_count": null,
      "outputs": [
        {
          "output_type": "stream",
          "text": [
            "[-10, -11, -5, -10, -12, -12, -12, -12, -12, -8, -11, -11, -9, -10, -10, -7, -12, -4, -9, -11, -9, -10, -11, -7, -10, -12, -12, -9, -9, -7, -12, -11, -12, -12, -14, -11, -6, -9, -13, -7, -10, -7, -10, -14, -14, -13, -10, -10, -5, -7, -7, -10, -10, -10, -8, -10, -10, -13, -9, -12, -11, -9, -11, -13, -10, -9, -8, -11, -8, -6, -9, -10, -8, -12, -10, -13, -10, -8, -15, -11, -13, -12, -7, -9, -8, -5, -9, -11, -11, -9, -11, -14, -10, -12, -10, -9, -9, -9, -9, -14]\n"
          ],
          "name": "stdout"
        }
      ]
    },
    {
      "cell_type": "markdown",
      "metadata": {
        "id": "d0885c12-62b1-440c-9690-46cd7102831f"
      },
      "source": [
        "### Tournament selection procedure"
      ],
      "id": "d0885c12-62b1-440c-9690-46cd7102831f"
    },
    {
      "cell_type": "markdown",
      "metadata": {
        "id": "f923b254-c334-4b86-a151-6ec1857ec2be"
      },
      "source": [
        "We can then select parents that will be used to create children.<br>\n",
        "\n",
        "The tournament selection procedure can be implemented as a function that takes the population and returns one selected parent. The $k$ value is fixed at $3$ with a default argument, but you can experiment with different values if you like."
      ],
      "id": "f923b254-c334-4b86-a151-6ec1857ec2be"
    },
    {
      "cell_type": "code",
      "metadata": {
        "id": "7f481332-8905-480e-a464-788be78b268e"
      },
      "source": [
        "# tournament selection\n",
        "def selection(pop, scores, k=3):\n",
        "    # first random selection\n",
        "    selection_ix = randint(len(pop))\n",
        "    for ix in randint(0, len(pop), k-1):\n",
        "        # check if better (e.g. perform a tournament)\n",
        "        if scores[ix] < scores[selection_ix]:\n",
        "            selection_ix = ix\n",
        "    return pop[selection_ix]"
      ],
      "id": "7f481332-8905-480e-a464-788be78b268e",
      "execution_count": null,
      "outputs": []
    },
    {
      "cell_type": "markdown",
      "metadata": {
        "id": "6b1a1459-b79f-40f8-8ff9-29541c0c7632"
      },
      "source": [
        "We can then call this function one time for each position in the population to create a list of parents."
      ],
      "id": "6b1a1459-b79f-40f8-8ff9-29541c0c7632"
    },
    {
      "cell_type": "code",
      "metadata": {
        "id": "e289b3c2-e804-42eb-a098-d54b21cf92e6",
        "outputId": "9f8daa78-e0cd-46e6-85ac-6168b079718c"
      },
      "source": [
        "...\n",
        "# select parents\n",
        "selected = [selection(pop, scores) for _ in range(n_pop)]\n",
        "#candidate=selection(pop,scores,k=3)\n",
        "#print(\"Candidate selected after tornament\\n\",selected)\n",
        "#print(\"The fitness value of the selected candidate is %i\"%onemax(selected))"
      ],
      "id": "e289b3c2-e804-42eb-a098-d54b21cf92e6",
      "execution_count": null,
      "outputs": [
        {
          "output_type": "stream",
          "text": [
            "Candidate selected after tornament\n",
            " [[1, 1, 1, 0, 1, 1, 0, 0, 0, 1, 0, 0, 1, 0, 1, 1, 0, 0, 1, 1], [1, 0, 0, 1, 1, 1, 1, 0, 0, 1, 0, 1, 0, 0, 1, 1, 1, 0, 1, 0], [1, 1, 1, 0, 1, 0, 0, 0, 1, 0, 1, 1, 0, 1, 0, 1, 1, 0, 0, 0], [0, 1, 0, 0, 0, 0, 1, 1, 0, 1, 1, 1, 1, 1, 1, 1, 0, 0, 1, 1], [1, 1, 1, 0, 0, 0, 1, 1, 0, 1, 1, 1, 0, 1, 0, 1, 0, 1, 1, 1], [1, 1, 1, 0, 0, 0, 1, 1, 0, 1, 1, 1, 0, 1, 0, 1, 0, 1, 1, 1], [1, 1, 1, 1, 1, 1, 0, 0, 1, 1, 0, 1, 0, 1, 1, 1, 1, 0, 1, 1], [1, 1, 1, 1, 1, 0, 0, 1, 1, 1, 0, 0, 0, 1, 1, 0, 0, 0, 1, 1], [1, 1, 1, 1, 1, 1, 0, 0, 1, 1, 0, 1, 0, 1, 1, 1, 1, 0, 1, 1], [0, 1, 1, 0, 1, 1, 1, 0, 0, 0, 1, 0, 1, 1, 1, 1, 1, 1, 0, 0], [1, 1, 1, 1, 0, 1, 1, 0, 1, 1, 0, 0, 1, 0, 0, 1, 0, 1, 0, 1], [0, 0, 0, 1, 1, 1, 0, 0, 1, 1, 0, 1, 1, 1, 1, 1, 0, 1, 0, 0], [1, 0, 1, 1, 1, 1, 1, 0, 1, 1, 1, 1, 0, 1, 1, 0, 1, 1, 0, 0], [0, 1, 0, 1, 1, 1, 1, 1, 1, 1, 1, 0, 0, 1, 0, 0, 1, 1, 1, 1], [1, 0, 0, 1, 1, 1, 1, 0, 0, 1, 0, 1, 0, 0, 1, 1, 1, 0, 1, 0], [1, 1, 1, 1, 1, 1, 0, 0, 1, 1, 0, 1, 0, 1, 1, 1, 1, 0, 1, 1], [0, 1, 1, 0, 1, 1, 1, 0, 0, 0, 1, 0, 1, 1, 1, 1, 1, 1, 0, 0], [1, 1, 1, 0, 1, 1, 0, 0, 0, 1, 0, 0, 1, 0, 1, 1, 0, 0, 1, 1], [1, 0, 1, 1, 1, 1, 1, 0, 1, 1, 1, 1, 0, 1, 1, 0, 1, 1, 0, 0], [1, 1, 1, 1, 0, 1, 1, 0, 1, 1, 0, 0, 1, 0, 0, 1, 0, 1, 0, 1], [0, 0, 1, 0, 0, 0, 0, 0, 1, 1, 0, 0, 0, 1, 0, 1, 1, 1, 0, 0], [1, 1, 1, 1, 0, 1, 1, 0, 0, 1, 0, 1, 0, 1, 0, 1, 0, 0, 1, 0], [1, 1, 1, 1, 1, 0, 1, 0, 0, 1, 0, 0, 1, 1, 1, 1, 0, 1, 0, 0], [0, 1, 0, 1, 1, 1, 1, 0, 1, 0, 0, 0, 0, 1, 1, 1, 0, 1, 1, 0], [0, 1, 1, 1, 0, 1, 0, 1, 1, 1, 0, 0, 0, 1, 1, 0, 1, 0, 1, 0], [0, 0, 0, 1, 0, 0, 0, 0, 0, 0, 1, 1, 0, 1, 0, 1, 1, 1, 1, 1], [0, 1, 1, 0, 1, 1, 1, 0, 0, 0, 1, 0, 1, 1, 1, 1, 1, 1, 0, 0], [0, 1, 1, 1, 0, 1, 1, 1, 1, 0, 1, 0, 0, 0, 1, 1, 0, 0, 0, 1], [1, 1, 1, 1, 1, 0, 0, 1, 1, 1, 0, 0, 0, 1, 1, 0, 0, 0, 1, 1], [0, 0, 1, 1, 0, 1, 0, 1, 1, 1, 1, 0, 0, 1, 1, 1, 0, 1, 1, 1], [1, 0, 0, 0, 1, 0, 0, 0, 0, 1, 1, 1, 1, 1, 1, 0, 0, 1, 0, 1], [1, 1, 1, 1, 0, 0, 1, 1, 0, 1, 0, 1, 1, 0, 1, 0, 1, 1, 1, 1], [1, 1, 0, 1, 1, 0, 0, 0, 0, 1, 0, 0, 0, 0, 1, 1, 1, 0, 0, 1], [0, 1, 0, 1, 0, 0, 1, 0, 1, 0, 1, 0, 1, 0, 1, 0, 0, 1, 1, 1], [0, 1, 0, 1, 0, 1, 1, 1, 1, 1, 1, 0, 0, 1, 0, 0, 0, 1, 0, 1], [1, 0, 0, 0, 1, 0, 0, 0, 0, 1, 1, 1, 1, 1, 1, 0, 0, 1, 0, 1], [1, 0, 1, 1, 1, 1, 1, 0, 1, 0, 0, 1, 0, 1, 0, 1, 0, 1, 1, 0], [0, 1, 1, 0, 0, 0, 0, 1, 0, 0, 1, 0, 1, 1, 1, 0, 0, 1, 1, 1], [1, 1, 1, 1, 1, 0, 0, 1, 1, 1, 0, 0, 0, 1, 1, 0, 0, 0, 1, 1], [0, 1, 1, 0, 1, 0, 0, 1, 1, 1, 1, 1, 1, 0, 1, 0, 0, 0, 0, 0], [1, 0, 1, 0, 0, 1, 1, 1, 0, 1, 1, 1, 1, 0, 1, 0, 1, 1, 1, 0], [1, 0, 1, 1, 0, 0, 0, 1, 1, 1, 1, 0, 0, 0, 0, 0, 0, 1, 1, 0], [1, 0, 1, 1, 1, 1, 1, 0, 1, 0, 0, 1, 0, 1, 0, 1, 0, 1, 1, 0], [0, 1, 1, 0, 1, 1, 1, 0, 0, 0, 1, 0, 1, 1, 1, 1, 1, 1, 0, 0], [0, 0, 0, 1, 1, 1, 0, 0, 1, 1, 1, 1, 1, 0, 1, 1, 0, 0, 1, 1], [1, 1, 0, 1, 0, 1, 1, 0, 0, 0, 1, 1, 0, 0, 0, 0, 1, 0, 1, 0], [1, 0, 0, 1, 1, 1, 0, 0, 0, 1, 0, 0, 1, 1, 0, 1, 0, 1, 1, 1], [0, 1, 0, 1, 1, 1, 1, 1, 1, 1, 1, 0, 0, 1, 0, 0, 1, 1, 1, 1], [1, 1, 1, 1, 0, 1, 0, 0, 0, 1, 1, 0, 0, 1, 0, 0, 1, 1, 0, 0], [0, 1, 0, 0, 1, 1, 0, 1, 1, 1, 1, 0, 1, 1, 1, 1, 0, 0, 1, 1], [1, 0, 1, 1, 1, 1, 1, 1, 0, 0, 1, 0, 1, 1, 1, 0, 0, 1, 0, 1], [1, 1, 1, 1, 1, 1, 0, 0, 1, 1, 0, 1, 0, 1, 1, 1, 1, 0, 1, 1], [0, 1, 0, 1, 1, 1, 1, 1, 1, 1, 1, 0, 0, 1, 0, 0, 1, 1, 1, 1], [1, 1, 1, 1, 1, 0, 0, 1, 0, 1, 1, 0, 0, 1, 0, 1, 0, 1, 1, 0], [1, 1, 1, 0, 0, 0, 1, 1, 0, 1, 1, 1, 0, 1, 0, 1, 0, 1, 1, 1], [1, 0, 0, 1, 1, 1, 1, 1, 0, 1, 0, 1, 1, 1, 0, 0, 1, 0, 1, 0], [1, 1, 1, 1, 0, 0, 1, 1, 0, 1, 0, 1, 1, 0, 1, 0, 1, 1, 1, 1], [1, 0, 1, 1, 1, 1, 1, 0, 1, 1, 1, 1, 0, 1, 1, 0, 1, 1, 0, 0], [1, 1, 1, 0, 0, 0, 1, 1, 0, 1, 1, 1, 0, 1, 0, 1, 0, 1, 1, 1], [0, 1, 0, 0, 0, 0, 1, 1, 0, 1, 1, 1, 1, 1, 1, 1, 0, 0, 1, 1], [0, 1, 1, 1, 1, 1, 1, 0, 0, 0, 0, 1, 1, 0, 1, 1, 1, 1, 0, 0], [1, 0, 1, 1, 0, 0, 1, 0, 1, 1, 0, 0, 1, 1, 0, 0, 1, 1, 1, 1], [0, 0, 1, 1, 0, 1, 0, 1, 1, 1, 1, 0, 0, 1, 1, 1, 0, 1, 1, 1], [0, 1, 0, 1, 1, 1, 1, 1, 1, 1, 1, 0, 0, 1, 0, 0, 1, 1, 1, 1], [0, 0, 1, 1, 0, 1, 0, 1, 1, 1, 1, 0, 0, 1, 1, 1, 0, 1, 1, 1], [0, 0, 1, 1, 0, 1, 1, 0, 1, 0, 1, 1, 1, 0, 1, 1, 1, 1, 1, 1], [0, 1, 1, 1, 0, 1, 0, 1, 1, 1, 0, 0, 0, 1, 1, 0, 1, 0, 1, 0], [0, 0, 1, 1, 0, 1, 1, 0, 1, 0, 1, 1, 1, 0, 1, 1, 1, 1, 1, 1], [1, 1, 1, 1, 1, 0, 0, 1, 1, 1, 0, 0, 0, 1, 1, 0, 0, 0, 1, 1], [1, 1, 0, 1, 1, 0, 1, 1, 1, 0, 0, 1, 1, 0, 1, 0, 1, 0, 1, 0], [0, 0, 0, 1, 1, 1, 0, 0, 1, 1, 0, 1, 1, 1, 1, 1, 0, 1, 0, 0], [1, 0, 1, 1, 1, 1, 1, 1, 0, 0, 1, 0, 1, 1, 1, 0, 0, 1, 0, 1], [0, 1, 1, 0, 0, 0, 0, 1, 0, 0, 1, 0, 1, 1, 1, 0, 0, 1, 1, 1], [0, 0, 0, 0, 0, 1, 1, 1, 1, 0, 1, 1, 0, 1, 0, 1, 1, 1, 0, 0], [1, 1, 1, 1, 1, 1, 0, 0, 1, 1, 0, 1, 0, 1, 1, 1, 1, 0, 1, 1], [0, 1, 1, 1, 1, 1, 1, 0, 0, 0, 0, 1, 1, 0, 1, 1, 1, 1, 0, 0], [0, 1, 0, 1, 1, 1, 1, 0, 1, 0, 0, 0, 0, 1, 1, 1, 0, 1, 1, 0], [0, 1, 1, 0, 1, 1, 1, 0, 0, 0, 1, 0, 1, 1, 1, 1, 1, 1, 0, 0], [0, 1, 0, 1, 1, 1, 1, 1, 1, 1, 1, 0, 0, 1, 0, 0, 1, 1, 1, 1], [1, 1, 1, 1, 1, 0, 1, 0, 0, 1, 0, 0, 1, 1, 1, 1, 0, 1, 0, 0], [1, 1, 1, 1, 0, 0, 1, 1, 0, 1, 0, 1, 1, 0, 1, 0, 1, 1, 1, 1], [1, 1, 1, 1, 1, 0, 1, 0, 1, 0, 0, 1, 0, 1, 0, 0, 0, 0, 1, 0], [1, 0, 0, 1, 1, 1, 1, 0, 0, 1, 0, 1, 0, 0, 1, 1, 1, 0, 1, 0], [0, 1, 1, 1, 1, 1, 1, 0, 0, 0, 0, 1, 0, 0, 1, 1, 1, 0, 0, 0], [0, 1, 1, 1, 0, 1, 1, 1, 1, 0, 1, 0, 0, 0, 1, 1, 0, 0, 0, 1], [0, 1, 1, 0, 0, 1, 0, 0, 1, 1, 1, 1, 0, 1, 1, 0, 0, 1, 0, 1], [1, 0, 1, 1, 1, 1, 1, 1, 0, 0, 1, 0, 1, 1, 1, 0, 0, 1, 0, 1], [0, 1, 0, 1, 0, 0, 1, 0, 1, 0, 1, 0, 1, 0, 1, 0, 0, 1, 1, 1], [1, 1, 1, 1, 1, 0, 0, 1, 0, 1, 1, 0, 0, 1, 0, 1, 0, 1, 1, 0], [0, 1, 1, 0, 1, 1, 1, 0, 0, 0, 1, 0, 1, 1, 1, 1, 1, 1, 0, 0], [1, 0, 1, 0, 0, 1, 1, 1, 0, 1, 1, 1, 1, 0, 1, 0, 1, 1, 1, 0], [0, 1, 1, 0, 0, 0, 0, 1, 0, 0, 1, 0, 1, 1, 1, 0, 0, 1, 1, 1], [1, 1, 1, 1, 1, 0, 1, 0, 0, 1, 0, 0, 1, 1, 1, 1, 0, 1, 0, 0], [1, 0, 1, 0, 0, 1, 1, 1, 0, 1, 1, 1, 1, 0, 1, 0, 1, 1, 1, 0], [1, 0, 1, 1, 1, 1, 1, 0, 1, 0, 0, 1, 0, 1, 0, 1, 0, 1, 1, 0], [0, 0, 1, 1, 0, 1, 1, 0, 1, 0, 1, 1, 1, 0, 1, 1, 1, 1, 1, 1], [1, 1, 1, 1, 1, 0, 0, 1, 0, 1, 1, 0, 0, 1, 0, 1, 0, 1, 1, 0], [1, 0, 0, 0, 1, 1, 0, 1, 1, 1, 0, 0, 1, 0, 1, 0, 0, 1, 0, 1], [1, 0, 1, 1, 0, 0, 1, 0, 1, 1, 0, 0, 1, 1, 0, 0, 1, 1, 1, 1], [0, 0, 0, 1, 1, 1, 0, 0, 1, 1, 1, 1, 1, 0, 1, 1, 0, 0, 1, 1]]\n"
          ],
          "name": "stdout"
        }
      ]
    },
    {
      "cell_type": "markdown",
      "metadata": {
        "id": "984f8e83-12c2-4b37-b88f-476a88ea66a3"
      },
      "source": [
        "### Create Next generation - crossover"
      ],
      "id": "984f8e83-12c2-4b37-b88f-476a88ea66a3"
    },
    {
      "cell_type": "markdown",
      "metadata": {
        "id": "d26078ec-2bd2-44a2-ab97-4cb51822ee10"
      },
      "source": [
        "We can then create the next generation.<br>\n",
        "\n",
        "This first requires a function to perform crossover. This function will take two parents and the crossover rate. The crossover rate is a _hyperparameter_ that determines whether crossover is performed or not, and if not, the parents are copied into the next generation. It is a probability and typically has a large value close to $1.0$.\n",
        "\n",
        "The <font color=blue>_crossover()_</font> function below implements crossover using a draw of a random number in the range $[0,1]$ to determine if crossover is performed, then selecting a valid split point if crossover is to be performed."
      ],
      "id": "d26078ec-2bd2-44a2-ab97-4cb51822ee10"
    },
    {
      "cell_type": "code",
      "metadata": {
        "id": "9acfee24-0d2e-434c-a5cc-38b8d005e1ef"
      },
      "source": [
        "# crossover two parents to create two children\n",
        "def crossover(p1, p2, r_cross):\n",
        "    # children are copies of parents by default\n",
        "    c1, c2 = p1.copy(), p2.copy()\n",
        "    # check for recombination\n",
        "    if rand() < r_cross:\n",
        "        # select crossover point that is not on the end of the string\n",
        "        pt = randint(1, len(p1)-2)\n",
        "        # perform crossover\n",
        "        c1 = p1[:pt] + p2[pt:]\n",
        "        c2 = p2[:pt] + p1[pt:]\n",
        "    return [c1, c2]"
      ],
      "id": "9acfee24-0d2e-434c-a5cc-38b8d005e1ef",
      "execution_count": null,
      "outputs": []
    },
    {
      "cell_type": "markdown",
      "metadata": {
        "id": "b68437f2-350c-40fe-91a1-ee2d83ade139"
      },
      "source": [
        "### Mutation"
      ],
      "id": "b68437f2-350c-40fe-91a1-ee2d83ade139"
    },
    {
      "cell_type": "markdown",
      "metadata": {
        "id": "0901a197-9790-4a11-954b-ad2594107c21"
      },
      "source": [
        "We also need a function to perform mutation.<br>\n",
        "\n",
        "This procedure simply flips bits with a low probability controlled by the “r_mut” hyperparameter."
      ],
      "id": "0901a197-9790-4a11-954b-ad2594107c21"
    },
    {
      "cell_type": "code",
      "metadata": {
        "id": "74f1703b-d755-4c9e-94b1-ede40459d4b5"
      },
      "source": [
        "# mutation operator\n",
        "def mutation(bitstring, r_mut):\n",
        "    for i in range(len(bitstring)):\n",
        "        # check for a mutation\n",
        "        if rand() < r_mut:\n",
        "            # flip the bit\n",
        "            bitstring[i] = 1 - bitstring[i]\n"
      ],
      "id": "74f1703b-d755-4c9e-94b1-ede40459d4b5",
      "execution_count": null,
      "outputs": []
    },
    {
      "cell_type": "markdown",
      "metadata": {
        "id": "25fed296-7750-413b-9d46-a2310fff4fa4"
      },
      "source": [
        "We can then loop over the list of parents and create a list of children to be used as the next generation, calling the crossover and mutation functions as needed."
      ],
      "id": "25fed296-7750-413b-9d46-a2310fff4fa4"
    },
    {
      "cell_type": "code",
      "metadata": {
        "id": "18b5a369-535b-498b-a7ee-9724ec68f62d"
      },
      "source": [
        "# crossover rate\n",
        "r_cross = 0.9\n",
        "# mutation rate\n",
        "r_mut = 1.0 / float(n_bits)\n",
        "# create the next generation\n",
        "children = list()\n",
        "for i in range(0, n_pop, 2):\n",
        "    # get selected parents in pairs\n",
        "    p1, p2 = selected[i], selected[i+1]\n",
        "    # crossover and mutation\n",
        "    for c in crossover(p1, p2, r_cross):\n",
        "        # mutation\n",
        "        mutation(c, r_mut)\n",
        "        # store for next generation\n",
        "        children.append(c)"
      ],
      "id": "18b5a369-535b-498b-a7ee-9724ec68f62d",
      "execution_count": null,
      "outputs": []
    },
    {
      "cell_type": "code",
      "metadata": {
        "id": "fdc61a53-1e46-4807-924a-82d8ad2db3d0",
        "outputId": "a59ac58f-b981-482a-9132-2576ce4afb48"
      },
      "source": [
        "for c in children:\n",
        "    print(c)"
      ],
      "id": "fdc61a53-1e46-4807-924a-82d8ad2db3d0",
      "execution_count": null,
      "outputs": [
        {
          "output_type": "stream",
          "text": [
            "[1, 1, 1, 0, 1, 1, 0, 0, 0, 1, 0, 1, 0, 0, 1, 1, 1, 0, 1, 0]\n",
            "[1, 0, 0, 1, 1, 1, 1, 1, 0, 1, 0, 0, 1, 0, 1, 1, 0, 0, 1, 1]\n",
            "[1, 1, 1, 0, 1, 0, 0, 0, 1, 0, 1, 1, 0, 1, 0, 1, 1, 0, 0, 0]\n",
            "[0, 1, 0, 0, 0, 0, 1, 1, 0, 1, 1, 0, 1, 0, 1, 1, 0, 0, 1, 1]\n",
            "[1, 1, 1, 0, 0, 0, 1, 1, 0, 1, 1, 0, 0, 1, 0, 1, 0, 1, 1, 1]\n",
            "[1, 1, 1, 0, 0, 1, 1, 1, 0, 1, 1, 1, 0, 1, 0, 1, 0, 1, 1, 1]\n",
            "[1, 1, 1, 1, 1, 0, 0, 0, 1, 1, 0, 1, 0, 1, 1, 0, 0, 0, 1, 1]\n",
            "[1, 1, 1, 1, 1, 0, 0, 1, 1, 1, 0, 0, 0, 1, 1, 1, 1, 0, 1, 0]\n",
            "[1, 1, 1, 1, 1, 1, 0, 0, 1, 1, 0, 1, 0, 1, 1, 1, 1, 1, 0, 0]\n",
            "[0, 1, 1, 0, 1, 1, 1, 0, 0, 0, 1, 0, 1, 1, 1, 1, 1, 0, 1, 1]\n",
            "[1, 0, 0, 1, 1, 1, 0, 0, 1, 1, 0, 1, 1, 1, 1, 1, 0, 1, 0, 0]\n",
            "[0, 1, 1, 1, 0, 1, 1, 0, 1, 1, 0, 0, 1, 0, 0, 1, 0, 1, 0, 1]\n",
            "[1, 0, 1, 1, 1, 1, 1, 1, 1, 1, 1, 0, 0, 1, 0, 0, 1, 1, 1, 1]\n",
            "[0, 1, 0, 1, 1, 1, 1, 0, 1, 1, 1, 0, 0, 1, 1, 0, 1, 1, 0, 0]\n",
            "[1, 0, 0, 0, 1, 1, 0, 0, 1, 1, 0, 1, 0, 1, 1, 1, 1, 0, 1, 1]\n",
            "[1, 1, 1, 1, 1, 1, 1, 0, 0, 1, 0, 1, 0, 0, 1, 1, 1, 0, 1, 0]\n",
            "[0, 1, 1, 0, 0, 1, 1, 0, 0, 0, 1, 0, 1, 1, 1, 1, 0, 0, 1, 1]\n",
            "[1, 1, 1, 0, 1, 1, 0, 0, 0, 1, 0, 0, 1, 0, 1, 0, 1, 1, 0, 0]\n",
            "[1, 0, 1, 1, 1, 1, 1, 0, 1, 1, 1, 1, 0, 1, 1, 0, 1, 1, 0, 0]\n",
            "[1, 1, 1, 1, 0, 1, 1, 0, 1, 1, 0, 0, 1, 0, 0, 1, 0, 1, 0, 1]\n",
            "[1, 0, 1, 0, 0, 0, 0, 0, 1, 1, 0, 0, 0, 1, 0, 1, 0, 0, 1, 0]\n",
            "[1, 1, 1, 1, 1, 1, 1, 0, 0, 1, 0, 1, 0, 1, 0, 0, 1, 1, 0, 0]\n",
            "[1, 1, 1, 1, 1, 1, 1, 0, 0, 0, 0, 0, 0, 1, 1, 1, 0, 1, 1, 0]\n",
            "[0, 0, 0, 1, 1, 0, 1, 0, 0, 1, 0, 0, 1, 1, 1, 1, 0, 1, 0, 0]\n",
            "[0, 1, 1, 1, 0, 1, 0, 1, 1, 1, 0, 0, 0, 1, 0, 1, 1, 1, 1, 1]\n",
            "[0, 0, 0, 1, 0, 0, 0, 0, 0, 0, 1, 1, 0, 1, 1, 0, 1, 0, 1, 0]\n",
            "[0, 1, 1, 0, 1, 1, 1, 1, 1, 0, 1, 0, 0, 0, 1, 1, 0, 0, 0, 1]\n",
            "[0, 1, 1, 1, 0, 0, 1, 0, 0, 0, 1, 0, 1, 1, 1, 0, 1, 1, 0, 0]\n",
            "[1, 1, 1, 0, 1, 0, 0, 1, 0, 1, 0, 0, 0, 1, 1, 0, 0, 0, 1, 1]\n",
            "[0, 0, 1, 1, 0, 1, 0, 1, 1, 1, 1, 0, 0, 1, 0, 1, 0, 1, 1, 1]\n",
            "[0, 0, 0, 0, 1, 0, 0, 1, 0, 1, 1, 1, 1, 0, 1, 0, 1, 1, 1, 1]\n",
            "[1, 1, 1, 1, 0, 0, 1, 0, 0, 1, 1, 1, 1, 1, 1, 0, 0, 1, 0, 1]\n",
            "[1, 1, 0, 1, 0, 0, 1, 0, 1, 0, 1, 0, 1, 0, 1, 0, 0, 1, 1, 1]\n",
            "[0, 1, 0, 1, 1, 0, 0, 0, 0, 1, 0, 0, 0, 0, 1, 1, 1, 0, 0, 1]\n",
            "[0, 1, 0, 1, 1, 1, 1, 1, 1, 1, 1, 1, 1, 1, 1, 0, 0, 1, 0, 1]\n",
            "[1, 0, 0, 0, 1, 0, 0, 0, 0, 1, 1, 0, 1, 1, 0, 0, 0, 1, 0, 1]\n",
            "[1, 0, 1, 1, 1, 0, 0, 1, 1, 0, 1, 0, 0, 1, 1, 0, 0, 1, 1, 1]\n",
            "[0, 1, 1, 0, 0, 1, 1, 0, 1, 0, 0, 0, 0, 1, 0, 1, 0, 1, 1, 0]\n",
            "[1, 1, 1, 1, 1, 0, 0, 1, 1, 1, 0, 0, 0, 1, 1, 0, 0, 0, 0, 0]\n",
            "[0, 1, 1, 0, 0, 0, 1, 1, 1, 1, 1, 1, 1, 0, 1, 0, 0, 0, 1, 1]\n",
            "[1, 0, 1, 1, 0, 1, 0, 1, 1, 1, 1, 1, 0, 0, 0, 0, 0, 1, 1, 0]\n",
            "[1, 0, 1, 1, 0, 0, 1, 1, 0, 1, 1, 1, 1, 0, 1, 0, 1, 1, 1, 0]\n",
            "[1, 0, 1, 0, 1, 1, 1, 0, 0, 0, 1, 1, 1, 1, 1, 1, 1, 1, 0, 0]\n",
            "[0, 1, 1, 1, 1, 1, 1, 0, 1, 0, 0, 1, 0, 1, 0, 1, 0, 1, 1, 0]\n",
            "[0, 0, 0, 1, 1, 1, 0, 0, 1, 1, 1, 1, 1, 0, 1, 1, 0, 0, 1, 1]\n",
            "[1, 1, 0, 1, 0, 1, 1, 0, 0, 0, 1, 1, 0, 0, 0, 0, 1, 0, 1, 0]\n",
            "[1, 0, 0, 1, 1, 1, 0, 0, 0, 1, 0, 0, 1, 1, 0, 1, 1, 1, 1, 1]\n",
            "[0, 1, 0, 0, 1, 1, 1, 1, 1, 1, 1, 0, 0, 1, 0, 0, 1, 1, 1, 1]\n",
            "[1, 1, 1, 1, 1, 1, 0, 1, 1, 1, 1, 0, 1, 1, 0, 1, 0, 1, 1, 1]\n",
            "[0, 1, 0, 0, 0, 1, 0, 0, 0, 1, 1, 1, 0, 1, 0, 0, 0, 1, 0, 0]\n",
            "[1, 1, 1, 1, 1, 1, 1, 1, 0, 0, 1, 0, 1, 1, 1, 1, 1, 0, 1, 0]\n",
            "[1, 1, 1, 1, 1, 1, 0, 0, 0, 1, 1, 1, 0, 1, 0, 0, 0, 1, 0, 1]\n",
            "[0, 1, 0, 1, 1, 1, 1, 1, 1, 0, 1, 0, 0, 1, 0, 1, 0, 1, 1, 0]\n",
            "[1, 1, 1, 1, 1, 0, 0, 1, 0, 1, 1, 0, 0, 1, 0, 0, 1, 1, 1, 1]\n",
            "[1, 1, 1, 0, 0, 1, 1, 1, 0, 1, 1, 1, 0, 1, 0, 0, 1, 0, 1, 0]\n",
            "[1, 0, 0, 1, 1, 1, 1, 1, 0, 1, 0, 1, 1, 1, 0, 1, 0, 1, 1, 1]\n",
            "[1, 1, 1, 0, 1, 1, 1, 0, 1, 1, 1, 1, 1, 1, 1, 0, 1, 1, 0, 0]\n",
            "[1, 0, 1, 1, 0, 0, 1, 1, 0, 1, 0, 1, 1, 0, 1, 0, 1, 1, 1, 1]\n",
            "[1, 1, 1, 0, 0, 0, 1, 1, 0, 1, 1, 1, 0, 1, 0, 1, 0, 0, 1, 1]\n",
            "[0, 1, 0, 0, 0, 0, 1, 1, 0, 1, 1, 1, 1, 1, 1, 1, 0, 1, 1, 1]\n",
            "[1, 1, 1, 1, 1, 1, 1, 0, 0, 0, 0, 0, 0, 1, 0, 1, 1, 1, 1, 1]\n",
            "[1, 0, 1, 1, 0, 1, 1, 0, 1, 1, 0, 1, 1, 0, 1, 1, 1, 1, 0, 0]\n",
            "[0, 0, 1, 1, 0, 1, 1, 1, 1, 1, 1, 1, 0, 1, 1, 1, 0, 1, 1, 1]\n",
            "[0, 1, 0, 1, 1, 1, 1, 1, 1, 1, 1, 0, 0, 1, 0, 0, 1, 1, 1, 0]\n",
            "[0, 0, 1, 1, 0, 1, 0, 1, 1, 1, 1, 0, 0, 0, 1, 1, 1, 1, 1, 0]\n",
            "[0, 0, 1, 1, 0, 1, 1, 0, 1, 0, 1, 1, 1, 1, 1, 1, 0, 1, 1, 1]\n",
            "[0, 1, 1, 1, 0, 1, 1, 0, 1, 0, 1, 1, 1, 0, 1, 1, 1, 1, 1, 1]\n",
            "[0, 0, 1, 1, 0, 1, 0, 1, 1, 1, 0, 0, 0, 1, 1, 0, 1, 0, 1, 0]\n",
            "[1, 1, 1, 1, 1, 0, 1, 1, 1, 0, 0, 1, 1, 0, 1, 0, 1, 0, 1, 0]\n",
            "[1, 1, 0, 1, 1, 0, 0, 1, 1, 1, 0, 0, 0, 1, 1, 0, 0, 1, 1, 1]\n",
            "[0, 0, 0, 1, 1, 1, 1, 1, 1, 0, 1, 0, 1, 1, 1, 0, 0, 1, 1, 0]\n",
            "[1, 0, 1, 1, 1, 1, 0, 0, 1, 1, 0, 1, 1, 1, 1, 1, 0, 1, 0, 0]\n",
            "[0, 1, 1, 0, 0, 0, 0, 1, 0, 0, 1, 0, 1, 1, 1, 0, 0, 1, 1, 1]\n",
            "[0, 1, 0, 0, 0, 1, 1, 1, 1, 0, 1, 1, 0, 1, 0, 1, 1, 1, 0, 0]\n",
            "[1, 1, 1, 1, 1, 1, 0, 0, 1, 1, 0, 1, 0, 1, 1, 1, 1, 0, 0, 0]\n",
            "[0, 1, 1, 1, 1, 1, 1, 0, 1, 0, 0, 1, 1, 1, 1, 1, 1, 0, 1, 1]\n",
            "[0, 1, 0, 1, 1, 1, 1, 0, 1, 0, 0, 0, 1, 1, 1, 1, 1, 1, 0, 0]\n",
            "[0, 1, 1, 0, 1, 0, 1, 0, 0, 0, 1, 0, 0, 1, 1, 1, 1, 1, 1, 0]\n",
            "[0, 1, 0, 0, 1, 1, 1, 1, 1, 1, 1, 0, 0, 1, 1, 1, 0, 1, 1, 0]\n",
            "[1, 1, 1, 1, 1, 0, 1, 1, 0, 1, 0, 0, 0, 1, 0, 0, 1, 1, 1, 1]\n",
            "[1, 1, 1, 1, 1, 0, 1, 0, 1, 0, 0, 1, 0, 1, 0, 0, 0, 0, 1, 0]\n",
            "[1, 1, 1, 1, 0, 0, 1, 1, 0, 1, 0, 1, 1, 0, 1, 0, 1, 1, 1, 1]\n",
            "[1, 0, 0, 1, 1, 1, 1, 0, 0, 0, 0, 1, 0, 0, 1, 1, 1, 0, 0, 0]\n",
            "[0, 1, 1, 1, 1, 1, 1, 0, 0, 1, 0, 1, 0, 0, 1, 1, 1, 0, 1, 0]\n",
            "[0, 0, 1, 1, 0, 1, 1, 1, 1, 0, 1, 0, 0, 0, 1, 1, 0, 0, 0, 1]\n",
            "[1, 1, 1, 0, 0, 1, 0, 0, 1, 1, 1, 1, 0, 1, 1, 0, 0, 1, 0, 1]\n",
            "[1, 0, 0, 1, 1, 1, 1, 1, 0, 0, 1, 0, 1, 0, 1, 0, 0, 1, 1, 1]\n",
            "[0, 1, 0, 1, 0, 0, 0, 0, 1, 0, 1, 0, 1, 1, 1, 0, 0, 1, 0, 1]\n",
            "[1, 1, 1, 0, 1, 1, 1, 0, 0, 0, 1, 0, 1, 1, 1, 1, 1, 1, 0, 0]\n",
            "[0, 1, 1, 0, 1, 0, 0, 1, 0, 1, 1, 0, 0, 1, 0, 1, 0, 1, 1, 0]\n",
            "[1, 0, 1, 0, 0, 1, 1, 1, 0, 1, 1, 1, 1, 0, 1, 0, 0, 1, 1, 1]\n",
            "[0, 1, 1, 0, 0, 0, 0, 1, 0, 0, 1, 0, 1, 1, 1, 0, 1, 1, 1, 0]\n",
            "[1, 1, 1, 1, 1, 0, 1, 0, 0, 1, 1, 1, 1, 0, 1, 0, 1, 1, 1, 0]\n",
            "[1, 0, 1, 0, 0, 1, 1, 1, 0, 1, 0, 0, 1, 1, 1, 1, 0, 1, 0, 0]\n",
            "[1, 0, 1, 0, 0, 1, 1, 0, 1, 0, 1, 1, 1, 0, 1, 1, 1, 1, 1, 1]\n",
            "[0, 0, 1, 1, 0, 1, 1, 0, 1, 0, 0, 1, 0, 1, 1, 1, 0, 1, 1, 0]\n",
            "[1, 1, 1, 1, 1, 1, 0, 1, 1, 1, 0, 0, 1, 0, 1, 0, 0, 1, 0, 1]\n",
            "[1, 0, 0, 0, 1, 0, 0, 1, 0, 1, 1, 0, 0, 1, 0, 1, 0, 1, 1, 0]\n",
            "[1, 0, 1, 1, 0, 0, 1, 0, 1, 1, 0, 1, 1, 0, 1, 1, 0, 0, 1, 1]\n",
            "[1, 0, 0, 1, 1, 1, 0, 0, 1, 1, 1, 0, 1, 1, 0, 0, 1, 1, 1, 1]\n"
          ],
          "name": "stdout"
        }
      ]
    },
    {
      "cell_type": "markdown",
      "metadata": {
        "id": "1496c737-5f31-46a3-a305-6ce0f965e033"
      },
      "source": [
        "We can tie all of this together into a function named <font color=blue>_genetic_algorithm()_</font> that takes the name of the objective function and the hyperparameters of the search, and returns the best solution found during the search."
      ],
      "id": "1496c737-5f31-46a3-a305-6ce0f965e033"
    },
    {
      "cell_type": "code",
      "metadata": {
        "id": "ff37aaf5-906e-46a0-af02-925f73a2ddaa",
        "outputId": "b76f745e-4743-401d-8531-3889cb257e1a"
      },
      "source": [
        "# genetic algorithm search of the one max optimization problem\n",
        "from numpy.random import randint\n",
        "from numpy.random import rand\n",
        "\n",
        "# objective function\n",
        "def onemax(x):\n",
        "    return -sum(x)\n",
        "\n",
        "# tournament selection\n",
        "def selection(pop, scores, k=3):\n",
        "    # first random selection\n",
        "    selection_ix = randint(len(pop))\n",
        "    for ix in randint(0, len(pop), k-1):\n",
        "        # check if better (e.g. perform a tournament)\n",
        "        if scores[ix] < scores[selection_ix]:\n",
        "            selection_ix = ix\n",
        "    return pop[selection_ix]\n",
        "\n",
        "# crossover two parents to create two children\n",
        "def crossover(p1, p2, r_cross):\n",
        "    # children are copies of parents by default\n",
        "    c1, c2 = p1.copy(), p2.copy()\n",
        "    # check for recombination\n",
        "    if rand() < r_cross:\n",
        "        # select crossover point that is not on the end of the string\n",
        "        pt = randint(1, len(p1)-2)\n",
        "        # perform crossover\n",
        "        c1 = p1[:pt] + p2[pt:]\n",
        "        c2 = p2[:pt] + p1[pt:]\n",
        "    return [c1, c2]\n",
        "\n",
        "# mutation operator\n",
        "def mutation(bitstring, r_mut):\n",
        "    for i in range(len(bitstring)):\n",
        "        # check for a mutation\n",
        "        if rand() < r_mut:\n",
        "            # flip the bit\n",
        "            bitstring[i] = 1 - bitstring[i]\n",
        "\n",
        "# genetic algorithm\n",
        "def genetic_algorithm(objective, n_bits, n_iter, n_pop, r_cross, r_mut):\n",
        "    # initial population of random bitstring\n",
        "    pop = [randint(0, 2, n_bits).tolist() for _ in range(n_pop)]\n",
        "    # keep track of best solution\n",
        "    best, best_eval = 0, objective(pop[0])\n",
        "    # enumerate generations\n",
        "    for gen in range(n_iter):\n",
        "        # evaluate all candidates in the population\n",
        "        scores = [objective(c) for c in pop]\n",
        "        # check for new best solution\n",
        "        for i in range(n_pop):\n",
        "            if scores[i] < best_eval:\n",
        "                best, best_eval = pop[i], scores[i]\n",
        "                print(\">%d, new best f(%s) = %.3f\" % (gen,  pop[i], scores[i]))\n",
        "        # select parents\n",
        "        selected = [selection(pop, scores) for _ in range(n_pop)]\n",
        "        # create the next generation\n",
        "        children = list()\n",
        "        for i in range(0, n_pop, 2):\n",
        "            # get selected parents in pairs\n",
        "            p1, p2 = selected[i], selected[i+1]\n",
        "            # crossover and mutation\n",
        "            for c in crossover(p1, p2, r_cross):\n",
        "                # mutation\n",
        "                mutation(c, r_mut)\n",
        "                # store for next generation\n",
        "                children.append(c)\n",
        "        # replace population\n",
        "        pop = children\n",
        "    return [best, best_eval]\n",
        "\n",
        "# define the total iterations\n",
        "n_iter = 100\n",
        "# bits\n",
        "n_bits = 20\n",
        "# define the population size\n",
        "n_pop = 100\n",
        "# crossover rate\n",
        "r_cross = 0.9\n",
        "# mutation rate\n",
        "r_mut = 1.0 / float(n_bits)\n",
        "# perform the genetic algorithm search\n",
        "best, score = genetic_algorithm(onemax, n_bits, n_iter, n_pop, r_cross, r_mut)\n",
        "print('Done!')\n",
        "print('f(%s) = %f' % (best, score))"
      ],
      "id": "ff37aaf5-906e-46a0-af02-925f73a2ddaa",
      "execution_count": null,
      "outputs": [
        {
          "output_type": "stream",
          "text": [
            ">0, new best f([1, 1, 0, 1, 1, 0, 0, 1, 1, 0, 1, 1, 0, 0, 1, 1, 0, 1, 1, 0]) = -12.000\n",
            ">0, new best f([0, 0, 1, 1, 0, 0, 0, 1, 1, 1, 1, 1, 0, 1, 0, 1, 1, 1, 1, 1]) = -13.000\n",
            ">0, new best f([0, 1, 0, 1, 0, 0, 1, 0, 1, 1, 1, 1, 1, 0, 1, 1, 1, 1, 1, 1]) = -14.000\n",
            ">0, new best f([0, 0, 0, 1, 1, 1, 0, 1, 1, 1, 1, 1, 1, 1, 1, 1, 1, 1, 1, 0]) = -15.000\n",
            ">1, new best f([0, 0, 1, 0, 1, 1, 1, 1, 1, 1, 1, 1, 1, 1, 1, 1, 1, 1, 1, 0]) = -16.000\n",
            ">1, new best f([1, 0, 1, 1, 1, 1, 1, 0, 1, 1, 1, 1, 1, 0, 1, 1, 1, 1, 1, 1]) = -17.000\n",
            ">3, new best f([1, 1, 0, 1, 1, 1, 1, 1, 1, 1, 1, 1, 1, 0, 1, 1, 1, 1, 1, 1]) = -18.000\n",
            ">5, new best f([1, 1, 1, 1, 1, 1, 1, 1, 1, 0, 1, 1, 1, 1, 1, 1, 1, 1, 1, 1]) = -19.000\n",
            ">6, new best f([1, 1, 1, 1, 1, 1, 1, 1, 1, 1, 1, 1, 1, 1, 1, 1, 1, 1, 1, 1]) = -20.000\n",
            "Done!\n",
            "f([1, 1, 1, 1, 1, 1, 1, 1, 1, 1, 1, 1, 1, 1, 1, 1, 1, 1, 1, 1]) = -20.000000\n"
          ],
          "name": "stdout"
        }
      ]
    },
    {
      "cell_type": "markdown",
      "metadata": {
        "id": "ffc7ac18-98dd-41fa-8aa8-37c34ae43c84"
      },
      "source": [
        "## Genetic Algorithm for Continuous Function Optimization"
      ],
      "id": "ffc7ac18-98dd-41fa-8aa8-37c34ae43c84"
    },
    {
      "cell_type": "markdown",
      "metadata": {
        "id": "66e41ef1-bd99-45ab-a5b2-c235c842380b"
      },
      "source": [
        "Optimizing the OneMax function is not very interesting; we are more likely to want to optimize a continuous function.\n",
        "\n",
        "For example, we can define the $x^2$ minimization function that takes input variables and has an optima at $f(0, 0) = 0.0$."
      ],
      "id": "66e41ef1-bd99-45ab-a5b2-c235c842380b"
    },
    {
      "cell_type": "code",
      "metadata": {
        "id": "7afa6a91-c6d9-4a5b-8214-4fb2786e3c03"
      },
      "source": [
        "# objective function\n",
        "def objective(x):\n",
        "    return x[0]**2.0 + x[1]**2.0"
      ],
      "id": "7afa6a91-c6d9-4a5b-8214-4fb2786e3c03",
      "execution_count": null,
      "outputs": []
    },
    {
      "cell_type": "markdown",
      "metadata": {
        "id": "785dca07-27a8-4618-8564-147aa6d1dad6"
      },
      "source": [
        "We can minimize this function with a genetic algorithm.<br>\n",
        "\n",
        "First, we must define the bounds of each input variable."
      ],
      "id": "785dca07-27a8-4618-8564-147aa6d1dad6"
    },
    {
      "cell_type": "code",
      "metadata": {
        "id": "64904e04-8362-4125-9cf4-87d980e0aa3c"
      },
      "source": [
        "...\n",
        "# define range for input\n",
        "bounds = [[-5.0, 5.0], [-5.0, 5.0]]"
      ],
      "id": "64904e04-8362-4125-9cf4-87d980e0aa3c",
      "execution_count": null,
      "outputs": []
    },
    {
      "cell_type": "markdown",
      "metadata": {
        "id": "efc3fd82-4d61-4faa-a38e-9944b0aa6a1f"
      },
      "source": [
        "We will take the “n_bits” hyperparameter as a number of bits per input variable to the objective function and set it to 16 bits."
      ],
      "id": "efc3fd82-4d61-4faa-a38e-9944b0aa6a1f"
    },
    {
      "cell_type": "code",
      "metadata": {
        "id": "fb3def60-f972-4c7b-8c8b-ed089ddc8690"
      },
      "source": [
        "...\n",
        "# bits per variable\n",
        "n_bits = 16"
      ],
      "id": "fb3def60-f972-4c7b-8c8b-ed089ddc8690",
      "execution_count": null,
      "outputs": []
    },
    {
      "cell_type": "markdown",
      "metadata": {
        "id": "102b49a9-fbe1-4426-8fdd-46adcc8229e7"
      },
      "source": [
        "This means our actual bit string will have (16 * 2) = 32 bits, given the two input variables.<br>\n",
        "\n",
        "We must update our mutation rate accordingly."
      ],
      "id": "102b49a9-fbe1-4426-8fdd-46adcc8229e7"
    },
    {
      "cell_type": "code",
      "metadata": {
        "id": "7d377578-9d58-4f1e-b9e0-4eba3a1d5c41"
      },
      "source": [
        "...\n",
        "# mutation rate\n",
        "r_mut = 1.0 / (float(n_bits) * len(bounds))"
      ],
      "id": "7d377578-9d58-4f1e-b9e0-4eba3a1d5c41",
      "execution_count": null,
      "outputs": []
    },
    {
      "cell_type": "markdown",
      "metadata": {
        "id": "428ec3f7-5ca6-4d17-b46d-b6f14f64b55c"
      },
      "source": [
        "Next, we need to ensure that the initial population creates random bitstrings that are large enough."
      ],
      "id": "428ec3f7-5ca6-4d17-b46d-b6f14f64b55c"
    },
    {
      "cell_type": "code",
      "metadata": {
        "id": "1ecc0331-2480-47d6-b650-cde23a9ff192"
      },
      "source": [
        "...\n",
        "# initial population of random bitstring\n",
        "pop = [randint(0, 2, n_bits*len(bounds)).tolist() for _ in range(n_pop)]"
      ],
      "id": "1ecc0331-2480-47d6-b650-cde23a9ff192",
      "execution_count": null,
      "outputs": []
    },
    {
      "cell_type": "markdown",
      "metadata": {
        "id": "852bbdb1-79d8-40eb-9d6e-3db31236aac8"
      },
      "source": [
        "Finally, we need to decode the bitstrings to numbers prior to evaluating each with the objective function.<br>\n",
        "\n",
        "We can achieve this by first decoding each substring to an integer, then scaling the integer to the desired range. This will give a vector of values in the range that can then be provided to the objective function for evaluation.<br>\n",
        "\n",
        "The <font color=blue>_decode()_</font> function below implements this, taking the bounds of the function, the number of bits per variable, and a bitstring as input and returns a list of decoded real values."
      ],
      "id": "852bbdb1-79d8-40eb-9d6e-3db31236aac8"
    },
    {
      "cell_type": "code",
      "metadata": {
        "id": "1dce5dec-009b-493d-b3c8-56d42a0e0db5"
      },
      "source": [
        "# decode bitstring to numbers\n",
        "def decode(bounds, n_bits, bitstring):\n",
        "    decoded = list()\n",
        "    largest = 2**n_bits\n",
        "    for i in range(len(bounds)):\n",
        "        # extract the substring\n",
        "        start, end = i * n_bits, (i * n_bits)+n_bits\n",
        "        substring = bitstring[start:end]\n",
        "        # convert bitstring to a string of chars\n",
        "        chars = ''.join([str(s) for s in substring])\n",
        "        # convert string to integer\n",
        "        integer = int(chars, 2)\n",
        "        # scale integer to desired range\n",
        "        value = bounds[i][0] + (integer/largest) * (bounds[i][1] - bounds[i][0])\n",
        "        # store\n",
        "        decoded.append(value)\n",
        "    return decoded\n",
        "#print(decode)"
      ],
      "id": "1dce5dec-009b-493d-b3c8-56d42a0e0db5",
      "execution_count": null,
      "outputs": []
    },
    {
      "cell_type": "markdown",
      "metadata": {
        "id": "92d90cb2-1ea4-4fd6-a8f9-26d1007675c9"
      },
      "source": [
        "We can then call this at the beginning of the algorithm loop to decode the population, then evaluate the decoded version of the population."
      ],
      "id": "92d90cb2-1ea4-4fd6-a8f9-26d1007675c9"
    },
    {
      "cell_type": "code",
      "metadata": {
        "id": "ca7d062a-117f-45fc-8174-3092998521f9",
        "outputId": "ed422a8f-d5a7-4d24-afbe-cada080493d9"
      },
      "source": [
        "...\n",
        "# decode population\n",
        "decoded = [decode(bounds, n_bits, p) for p in pop]\n",
        "# evaluate all candidates in the population\n",
        "scores = [objective(d) for d in decoded]\n",
        "print(scores)"
      ],
      "id": "ca7d062a-117f-45fc-8174-3092998521f9",
      "execution_count": null,
      "outputs": [
        {
          "output_type": "stream",
          "text": [
            "[27.825303375720978, 37.703939829953015, 20.960563886910677, 30.15080476179719, 23.90741773415357, 5.5245081428438425, 16.854086611419916, 18.520651967264712, 2.1598715567961335, 13.439960428513587, 11.358116753399372, 10.72919936850667, 10.913364519365132, 8.2753193564713, 4.06878599897027, 12.778898933902383, 10.363361099734902, 1.3507914263755083, 11.031115823425353, 2.1569253178313375, 34.18297786265612, 20.60241075232625, 19.317429629154503, 1.0402495274320245, 13.854012568481266, 25.163636077195406, 7.643244345672429, 25.728287640959024, 15.120432921685278, 3.811270766891539, 15.653186477720737, 1.4630279736593366, 0.8228752994909883, 7.145156059414148, 41.131905652582645, 26.12355323508382, 11.057733604684472, 22.756455093622208, 15.823567286133766, 10.152335930615664, 14.675426227040589, 12.470309459604323, 25.360547238960862, 40.521309012547135, 4.1235231794416904, 22.84355112351477, 4.0471210377290845, 15.054767671972513, 28.70281720533967, 1.008859509602189, 19.449279946275055, 30.243752640672028, 2.2607744205743074, 36.47609588224441, 18.77045934088528, 10.800783056765795, 15.115021006204188, 12.528780847787857, 13.010892015881836, 35.76703988946974, 23.39214743115008, 33.16263649612665, 7.679268019273877, 5.2335548447445035, 12.975295726209879, 24.2119119502604, 2.1151363849639893, 1.0047523537650704, 22.29642274323851, 20.169726596213877, 33.752330020070076, 13.172893458977342, 21.10691147390753, 0.04493205342441797, 16.485958942212164, 2.8040143894031644, 10.615534265525639, 37.2835153946653, 9.239172958768904, 23.419140139594674, 7.599115394987166, 24.595052236691117, 11.73747074790299, 7.897796714678407, 8.531238324940205, 12.098384578712285, 2.8756702318787575, 26.024980284273624, 28.04017784073949, 14.591394737362862, 3.1208086060360074, 18.282428779639304, 0.2765411511063576, 28.955087158828974, 11.020990554243326, 20.974543155170977, 33.47064529079944, 2.2391000762581825, 8.936311909928918, 4.465978057123721]\n"
          ],
          "name": "stdout"
        }
      ]
    },
    {
      "cell_type": "markdown",
      "metadata": {
        "id": "1e7d1718-6d84-4e6d-922a-da919bc1e09e"
      },
      "source": [
        "Tying this together, the complete example of the genetic algorithm for continuous function optimization is listed below."
      ],
      "id": "1e7d1718-6d84-4e6d-922a-da919bc1e09e"
    },
    {
      "cell_type": "code",
      "metadata": {
        "id": "24bbb7c5-031a-4c21-8b80-a3164ca89a07",
        "outputId": "9f7a553f-d81e-43cd-cb64-a1bb75ce0939"
      },
      "source": [
        "# genetic algorithm search for continuous function optimization\n",
        "from numpy.random import randint\n",
        "from numpy.random import rand\n",
        "\n",
        "# objective function\n",
        "def objective(x):\n",
        "    return x[0]**2.0 + x[1]**2.0\n",
        "\n",
        "# decode bitstring to numbers\n",
        "def decode(bounds, n_bits, bitstring):\n",
        "    decoded = list()\n",
        "    largest = 2**n_bits\n",
        "    for i in range(len(bounds)):\n",
        "        # extract the substring\n",
        "        start, end = i * n_bits, (i * n_bits)+n_bits\n",
        "        substring = bitstring[start:end]\n",
        "        # convert bitstring to a string of chars\n",
        "        chars = ''.join([str(s) for s in substring])\n",
        "        # convert string to integer\n",
        "        integer = int(chars, 2)\n",
        "        # scale integer to desired range\n",
        "        value = bounds[i][0] + (integer/largest) * (bounds[i][1] - bounds[i][0])\n",
        "        # store\n",
        "        decoded.append(value)\n",
        "    return decoded\n",
        "\n",
        "# tournament selection\n",
        "def selection(pop, scores, k=3):\n",
        "    # first random selection\n",
        "    selection_ix = randint(len(pop))\n",
        "    for ix in randint(0, len(pop), k-1):\n",
        "        # check if better (e.g. perform a tournament)\n",
        "        if scores[ix] < scores[selection_ix]:\n",
        "            selection_ix = ix\n",
        "    return pop[selection_ix]\n",
        "\n",
        "# crossover two parents to create two children\n",
        "def crossover(p1, p2, r_cross):\n",
        "    # children are copies of parents by default\n",
        "    c1, c2 = p1.copy(), p2.copy()\n",
        "    # check for recombination\n",
        "    if rand() < r_cross:\n",
        "        # select crossover point that is not on the end of the string\n",
        "        pt = randint(1, len(p1)-2)\n",
        "        # perform crossover\n",
        "        c1 = p1[:pt] + p2[pt:]\n",
        "        c2 = p2[:pt] + p1[pt:]\n",
        "    return [c1, c2]\n",
        "\n",
        "# mutation operator\n",
        "def mutation(bitstring, r_mut):\n",
        "    for i in range(len(bitstring)):\n",
        "        # check for a mutation\n",
        "        if rand() < r_mut:\n",
        "            # flip the bit\n",
        "            bitstring[i] = 1 - bitstring[i]\n",
        "\n",
        "# genetic algorithm\n",
        "def genetic_algorithm(objective, bounds, n_bits, n_iter, n_pop, r_cross, r_mut):\n",
        "    # initial population of random bitstring\n",
        "    pop = [randint(0, 2, n_bits*len(bounds)).tolist() for _ in range(n_pop)]\n",
        "    # keep track of best solution\n",
        "    best, best_eval = 0, objective(decode(bounds, n_bits, pop[0]))\n",
        "    # enumerate generations\n",
        "    for gen in range(n_iter):\n",
        "        # decode population\n",
        "        decoded = [decode(bounds, n_bits, p) for p in pop]\n",
        "        # evaluate all candidates in the population\n",
        "        scores = [objective(d) for d in decoded]\n",
        "        # check for new best solution\n",
        "        for i in range(n_pop):\n",
        "            if scores[i] < best_eval:\n",
        "                best, best_eval = pop[i], scores[i]\n",
        "                print(\">%d, new best f(%s) = %f\" % (gen,  decoded[i], scores[i]))\n",
        "        # select parents\n",
        "        selected = [selection(pop, scores) for _ in range(n_pop)]\n",
        "        # create the next generation\n",
        "        children = list()\n",
        "        for i in range(0, n_pop, 2):\n",
        "            # get selected parents in pairs\n",
        "            p1, p2 = selected[i], selected[i+1]\n",
        "            # crossover and mutation\n",
        "            for c in crossover(p1, p2, r_cross):\n",
        "                # mutation\n",
        "                mutation(c, r_mut)\n",
        "                # store for next generation\n",
        "                children.append(c)\n",
        "        # replace population\n",
        "        pop = children\n",
        "    return [best, best_eval]\n",
        "\n",
        "# define range for input\n",
        "bounds = [[-5.0, 5.0], [-5.0, 5.0]]\n",
        "# define the total iterations\n",
        "n_iter = 100\n",
        "# bits per variable\n",
        "n_bits = 16\n",
        "# define the population size\n",
        "n_pop = 100\n",
        "# crossover rate\n",
        "r_cross = 0.9\n",
        "# mutation rate\n",
        "r_mut = 1.0 / (float(n_bits) * len(bounds))\n",
        "# perform the genetic algorithm search\n",
        "best, score = genetic_algorithm(objective, bounds, n_bits, n_iter, n_pop, r_cross, r_mut)\n",
        "print('Done!')\n",
        "decoded = decode(bounds, n_bits, best)\n",
        "print('f(%s) = %f' % (decoded, score))"
      ],
      "id": "24bbb7c5-031a-4c21-8b80-a3164ca89a07",
      "execution_count": null,
      "outputs": [
        {
          "output_type": "stream",
          "text": [
            ">0, new best f([-4.041900634765625, -0.951080322265625]) = 17.241515\n",
            ">0, new best f([-1.66778564453125, 0.359039306640625]) = 2.910418\n",
            ">0, new best f([0.05706787109375, -0.5206298828125]) = 0.274312\n",
            ">1, new best f([0.05828857421875, -0.517730712890625]) = 0.271443\n",
            ">1, new best f([0.2825927734375, 0.097503662109375]) = 0.089366\n",
            ">2, new best f([0.27679443359375, 0.092926025390625]) = 0.085250\n",
            ">3, new best f([0.1251220703125, -0.205230712890625]) = 0.057775\n",
            ">3, new best f([0.1251220703125, -0.1568603515625]) = 0.040261\n",
            ">3, new best f([0.0518798828125, -0.156402587890625]) = 0.027153\n",
            ">3, new best f([0.1214599609375, 0.096893310546875]) = 0.024141\n",
            ">3, new best f([0.001678466796875, -0.034332275390625]) = 0.001182\n",
            ">4, new best f([0.000457763671875, -0.0299072265625]) = 0.000895\n",
            ">5, new best f([0.00152587890625, -0.011138916015625]) = 0.000126\n",
            ">6, new best f([0.00030517578125, -0.001983642578125]) = 0.000004\n",
            ">18, new best f([0.0006103515625, -0.001678466796875]) = 0.000003\n",
            ">19, new best f([0.001068115234375, -0.001373291015625]) = 0.000003\n",
            ">20, new best f([0.001068115234375, -0.000457763671875]) = 0.000001\n",
            ">20, new best f([0.00030517578125, -0.000457763671875]) = 0.000000\n",
            ">27, new best f([0.00030517578125, -0.000152587890625]) = 0.000000\n",
            ">33, new best f([0.0, -0.00030517578125]) = 0.000000\n",
            ">36, new best f([0.0, -0.000152587890625]) = 0.000000\n",
            "Done!\n",
            "f([0.0, -0.000152587890625]) = 0.000000\n"
          ],
          "name": "stdout"
        }
      ]
    },
    {
      "cell_type": "code",
      "metadata": {
        "id": "5757f31f-f39b-4b86-a8a9-9237c337ef70",
        "outputId": "2aaf98d7-293f-416c-86fc-eaf98d8effd6"
      },
      "source": [
        "#Parent Selection\n",
        "import pandas as pd\n",
        "import math\n",
        "import numpy as np\n",
        "import matplotlib.pyplot as plt\n",
        "import random\n",
        "from itertools import permutations as permutation\n",
        "\n",
        "def mating (parents):\n",
        "    parent1 = 0 \n",
        "    parent2 = 0\n",
        "    parent1 = permutation(parents,2)\n",
        "    parent2 = permutation(parents , 2)\n",
        "    print (\"parent1: \", list(parent1))\n",
        "    print (\"parent2: \", list(parent2))\n",
        "\n",
        "#Function used to create my 4 parents and 3 genes\n",
        "def generateRandom(population , m):\n",
        "   Population = np.random.rand (population,m)   \n",
        "   return(Population)\n",
        "\n",
        "# main code where I am setting returns from the functions to other vairables to call later\n",
        "for i in range(2):\n",
        "    candidateSolution = generateRandom(4,3)\n",
        "    print (\"the solutions: \", candidateSolution)\n",
        "    full_population = mating(candidateSolution)"
      ],
      "id": "5757f31f-f39b-4b86-a8a9-9237c337ef70",
      "execution_count": null,
      "outputs": [
        {
          "output_type": "stream",
          "text": [
            "the solutions:  [[0.21192067 0.19958274 0.22971195]\n",
            " [0.01866701 0.54487244 0.16914399]\n",
            " [0.77559757 0.3471901  0.82673037]\n",
            " [0.47531817 0.51560979 0.22405543]]\n",
            "parent1:  [(array([0.21192067, 0.19958274, 0.22971195]), array([0.01866701, 0.54487244, 0.16914399])), (array([0.21192067, 0.19958274, 0.22971195]), array([0.77559757, 0.3471901 , 0.82673037])), (array([0.21192067, 0.19958274, 0.22971195]), array([0.47531817, 0.51560979, 0.22405543])), (array([0.01866701, 0.54487244, 0.16914399]), array([0.21192067, 0.19958274, 0.22971195])), (array([0.01866701, 0.54487244, 0.16914399]), array([0.77559757, 0.3471901 , 0.82673037])), (array([0.01866701, 0.54487244, 0.16914399]), array([0.47531817, 0.51560979, 0.22405543])), (array([0.77559757, 0.3471901 , 0.82673037]), array([0.21192067, 0.19958274, 0.22971195])), (array([0.77559757, 0.3471901 , 0.82673037]), array([0.01866701, 0.54487244, 0.16914399])), (array([0.77559757, 0.3471901 , 0.82673037]), array([0.47531817, 0.51560979, 0.22405543])), (array([0.47531817, 0.51560979, 0.22405543]), array([0.21192067, 0.19958274, 0.22971195])), (array([0.47531817, 0.51560979, 0.22405543]), array([0.01866701, 0.54487244, 0.16914399])), (array([0.47531817, 0.51560979, 0.22405543]), array([0.77559757, 0.3471901 , 0.82673037]))]\n",
            "parent2:  [(array([0.21192067, 0.19958274, 0.22971195]), array([0.01866701, 0.54487244, 0.16914399])), (array([0.21192067, 0.19958274, 0.22971195]), array([0.77559757, 0.3471901 , 0.82673037])), (array([0.21192067, 0.19958274, 0.22971195]), array([0.47531817, 0.51560979, 0.22405543])), (array([0.01866701, 0.54487244, 0.16914399]), array([0.21192067, 0.19958274, 0.22971195])), (array([0.01866701, 0.54487244, 0.16914399]), array([0.77559757, 0.3471901 , 0.82673037])), (array([0.01866701, 0.54487244, 0.16914399]), array([0.47531817, 0.51560979, 0.22405543])), (array([0.77559757, 0.3471901 , 0.82673037]), array([0.21192067, 0.19958274, 0.22971195])), (array([0.77559757, 0.3471901 , 0.82673037]), array([0.01866701, 0.54487244, 0.16914399])), (array([0.77559757, 0.3471901 , 0.82673037]), array([0.47531817, 0.51560979, 0.22405543])), (array([0.47531817, 0.51560979, 0.22405543]), array([0.21192067, 0.19958274, 0.22971195])), (array([0.47531817, 0.51560979, 0.22405543]), array([0.01866701, 0.54487244, 0.16914399])), (array([0.47531817, 0.51560979, 0.22405543]), array([0.77559757, 0.3471901 , 0.82673037]))]\n",
            "the solutions:  [[0.09356824 0.22425268 0.14825979]\n",
            " [0.91409261 0.63876282 0.22004105]\n",
            " [0.66742354 0.41677214 0.8625979 ]\n",
            " [0.0454126  0.26666113 0.72405513]]\n",
            "parent1:  [(array([0.09356824, 0.22425268, 0.14825979]), array([0.91409261, 0.63876282, 0.22004105])), (array([0.09356824, 0.22425268, 0.14825979]), array([0.66742354, 0.41677214, 0.8625979 ])), (array([0.09356824, 0.22425268, 0.14825979]), array([0.0454126 , 0.26666113, 0.72405513])), (array([0.91409261, 0.63876282, 0.22004105]), array([0.09356824, 0.22425268, 0.14825979])), (array([0.91409261, 0.63876282, 0.22004105]), array([0.66742354, 0.41677214, 0.8625979 ])), (array([0.91409261, 0.63876282, 0.22004105]), array([0.0454126 , 0.26666113, 0.72405513])), (array([0.66742354, 0.41677214, 0.8625979 ]), array([0.09356824, 0.22425268, 0.14825979])), (array([0.66742354, 0.41677214, 0.8625979 ]), array([0.91409261, 0.63876282, 0.22004105])), (array([0.66742354, 0.41677214, 0.8625979 ]), array([0.0454126 , 0.26666113, 0.72405513])), (array([0.0454126 , 0.26666113, 0.72405513]), array([0.09356824, 0.22425268, 0.14825979])), (array([0.0454126 , 0.26666113, 0.72405513]), array([0.91409261, 0.63876282, 0.22004105])), (array([0.0454126 , 0.26666113, 0.72405513]), array([0.66742354, 0.41677214, 0.8625979 ]))]\n",
            "parent2:  [(array([0.09356824, 0.22425268, 0.14825979]), array([0.91409261, 0.63876282, 0.22004105])), (array([0.09356824, 0.22425268, 0.14825979]), array([0.66742354, 0.41677214, 0.8625979 ])), (array([0.09356824, 0.22425268, 0.14825979]), array([0.0454126 , 0.26666113, 0.72405513])), (array([0.91409261, 0.63876282, 0.22004105]), array([0.09356824, 0.22425268, 0.14825979])), (array([0.91409261, 0.63876282, 0.22004105]), array([0.66742354, 0.41677214, 0.8625979 ])), (array([0.91409261, 0.63876282, 0.22004105]), array([0.0454126 , 0.26666113, 0.72405513])), (array([0.66742354, 0.41677214, 0.8625979 ]), array([0.09356824, 0.22425268, 0.14825979])), (array([0.66742354, 0.41677214, 0.8625979 ]), array([0.91409261, 0.63876282, 0.22004105])), (array([0.66742354, 0.41677214, 0.8625979 ]), array([0.0454126 , 0.26666113, 0.72405513])), (array([0.0454126 , 0.26666113, 0.72405513]), array([0.09356824, 0.22425268, 0.14825979])), (array([0.0454126 , 0.26666113, 0.72405513]), array([0.91409261, 0.63876282, 0.22004105])), (array([0.0454126 , 0.26666113, 0.72405513]), array([0.66742354, 0.41677214, 0.8625979 ]))]\n"
          ],
          "name": "stdout"
        }
      ]
    },
    {
      "cell_type": "code",
      "metadata": {
        "id": "ea7b4004",
        "outputId": "6d4c5012-e1f0-44e3-e038-1b2381375f5e"
      },
      "source": [
        "#CrossOver\n",
        "import random\n",
        "def crossover(l, q):\n",
        "    l = list(l)\n",
        "    q = list(q)\n",
        "    k = random.randint(0, 15)\n",
        "    print(\"Crossover point :\", k)\n",
        "    for i in range(k, len(s)):\n",
        "        l[i], q[i] = q[i], l[i]\n",
        "    l = ''.join(l)\n",
        "    q = ''.join(q)\n",
        "    print(l)\n",
        "    print(q, \"\\n\\n\")\n",
        "    return l, q\n",
        "\n",
        "s = '1100110110110011'\n",
        "p = '1000110011011111'\n",
        "print(\"Parents\")\n",
        "print(\"P1 :\", s)\n",
        "print(\"P2 :\", p, \"\\n\")\n",
        "  \n",
        "# function calling and storing the off springs for \n",
        "# next generation crossover\n",
        "for i in range(5):\n",
        "    print(\"Generation \", i+1, \"Childrens :\")\n",
        "    s, p = crossover(s, p)"
      ],
      "id": "ea7b4004",
      "execution_count": null,
      "outputs": [
        {
          "output_type": "stream",
          "text": [
            "Parents\n",
            "P1 : 1100110110110011\n",
            "P2 : 1000110011011111 \n",
            "\n",
            "Generation  1 Childrens :\n",
            "Crossover point : 14\n",
            "1100110110110011\n",
            "1000110011011111 \n",
            "\n",
            "\n",
            "Generation  2 Childrens :\n",
            "Crossover point : 11\n",
            "1100110110111111\n",
            "1000110011010011 \n",
            "\n",
            "\n",
            "Generation  3 Childrens :\n",
            "Crossover point : 9\n",
            "1100110111010011\n",
            "1000110010111111 \n",
            "\n",
            "\n",
            "Generation  4 Childrens :\n",
            "Crossover point : 4\n",
            "1100110010111111\n",
            "1000110111010011 \n",
            "\n",
            "\n",
            "Generation  5 Childrens :\n",
            "Crossover point : 4\n",
            "1100110111010011\n",
            "1000110010111111 \n",
            "\n",
            "\n"
          ],
          "name": "stdout"
        }
      ]
    },
    {
      "cell_type": "code",
      "metadata": {
        "id": "b4e6a270",
        "outputId": "ce6b2298-9c9e-4d4c-cdbd-7e5b814baac1"
      },
      "source": [
        "#Mutation\n",
        "#!pip install pygad        Uncomment for package to install\n",
        "import pygad\n",
        "import numpy\n",
        "function_inputs = [4,-2,3.5,5]\n",
        "desired_output = 44\n",
        "def fitness_func(solution, solution_idx):\n",
        "    output = numpy.sum(solution*function_inputs)\n",
        "    fitness = 1.0 / (numpy.abs(output - desired_output) + 0.000001)\n",
        "    return fitness\n",
        "\n",
        "ga_instance = pygad.GA(num_generations=100,\n",
        "                       sol_per_pop=5,\n",
        "                       num_genes=4,\n",
        "                       num_parents_mating=2,\n",
        "                       fitness_func=fitness_func,\n",
        "                       mutation_type=\"random\")\n",
        "\n",
        "ga_instance.run()\n",
        "ga_instance.plot_result()"
      ],
      "id": "b4e6a270",
      "execution_count": null,
      "outputs": [
        {
          "output_type": "stream",
          "text": [
            "C:\\Users\\koolm\\anaconda3\\lib\\site-packages\\pygad\\pygad.py:379: UserWarning: The percentage of genes to mutate (mutation_percent_genes=10) resutled in selecting (0) genes. The number of genes to mutate is set to 1 (mutation_num_genes=1).\n",
            "If you do not want to mutate any gene, please set mutation_type=None.\n",
            "  if not self.suppress_warnings: warnings.warn(\"The percentage of genes to mutate (mutation_percent_genes={mutation_percent}) resutled in selecting ({mutation_num}) genes. The number of genes to mutate is set to 1 (mutation_num_genes=1).\\nIf you do not want to mutate any gene, please set mutation_type=None.\".format(mutation_percent=mutation_percent_genes, mutation_num=mutation_num_genes))\n"
          ],
          "name": "stderr"
        },
        {
          "output_type": "display_data",
          "data": {
            "image/png": "[encoded data removed]",
            "text/plain": [
              "<Figure size 432x288 with 1 Axes>"
            ]
          },
          "metadata": {
            "tags": [],
            "needs_background": "light"
          }
        },
        {
          "output_type": "execute_result",
          "data": {
            "image/png": "[encoded data removed]",
            "text/plain": [
              "<Figure size 432x288 with 1 Axes>"
            ]
          },
          "metadata": {
            "tags": []
          },
          "execution_count": 10
        }
      ]
    },
    {
      "cell_type": "code",
      "metadata": {
        "id": "ab38daa3",
        "outputId": "85c8971a-42f9-495c-940c-4a38bc128df7"
      },
      "source": [
        "#Fitness Function \n",
        "\n",
        "#initialize population\n",
        "import random\n",
        "best=-100000\n",
        "populations =([[random.randint(0,1) for x in range(6)] for i in range(4)])\n",
        "print(type(populations))\n",
        "parents=[]\n",
        "new_populations = []\n",
        "print(populations)\n",
        "\n",
        "\n",
        "def fitness_score() :\n",
        "    global populations,best\n",
        "    fit_value = []\n",
        "    fit_score=[]\n",
        "    for i in range(4) :\n",
        "        chromosome_value=0\n",
        "        \n",
        "        for j in range(5,0,-1) :\n",
        "            chromosome_value += populations[i][j]*(2**(5-j))\n",
        "        chromosome_value = -1*chromosome_value if populations[i][0]==1 else chromosome_value\n",
        "        print(chromosome_value)\n",
        "        fit_value.append(-(chromosome_value**2) + 5 )\n",
        "    print(fit_value)\n",
        "    fit_value, populations = zip(*sorted(zip(fit_value, populations) , reverse = True))\n",
        "    best= fit_value[0]\n",
        "    \n",
        "fitness_score()"
      ],
      "id": "ab38daa3",
      "execution_count": null,
      "outputs": [
        {
          "output_type": "stream",
          "text": [
            "<class 'list'>\n",
            "[[1, 0, 1, 0, 0, 0], [1, 0, 1, 1, 1, 1], [1, 1, 1, 0, 1, 1], [1, 0, 1, 1, 1, 1]]\n",
            "-8\n",
            "-15\n",
            "-27\n",
            "-15\n",
            "[-59, -220, -724, -220]\n"
          ],
          "name": "stdout"
        }
      ]
    },
    {
      "cell_type": "code",
      "metadata": {
        "id": "598ee5a2"
      },
      "source": [
        ""
      ],
      "id": "598ee5a2",
      "execution_count": null,
      "outputs": []
    }
  ]
}